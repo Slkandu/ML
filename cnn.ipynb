{
  "cells": [
    {
      "cell_type": "markdown",
      "metadata": {
        "id": "view-in-github",
        "colab_type": "text"
      },
      "source": [
        "<a href=\"https://colab.research.google.com/github/Slkandu/ML/blob/main/cnn.ipynb\" target=\"_parent\"><img src=\"https://colab.research.google.com/assets/colab-badge.svg\" alt=\"Open In Colab\"/></a>"
      ]
    },
    {
      "cell_type": "code",
      "execution_count": null,
      "metadata": {
        "id": "aIP7vYxZyTJO"
      },
      "outputs": [],
      "source": [
        "import pandas as pd\n",
        "import numpy as np"
      ]
    },
    {
      "cell_type": "code",
      "execution_count": null,
      "metadata": {
        "id": "fn6EA1Y4yawl"
      },
      "outputs": [],
      "source": [
        "from keras.datasets import cifar10"
      ]
    },
    {
      "cell_type": "code",
      "execution_count": null,
      "metadata": {
        "id": "Wn60RAjwyjC3"
      },
      "outputs": [],
      "source": [
        "from keras.models import Sequential\n",
        "from keras.layers import Dense, Dropout, Flatten, Conv2D, MaxPooling2D\n",
        "from keras.utils import to_categorical"
      ]
    },
    {
      "cell_type": "code",
      "execution_count": null,
      "metadata": {
        "id": "UmcspOpYyxNG"
      },
      "outputs": [],
      "source": [
        "from keras.layers import BatchNormalization\n",
        "from keras.optimizers import SGD"
      ]
    },
    {
      "cell_type": "code",
      "execution_count": null,
      "metadata": {
        "colab": {
          "base_uri": "https://localhost:8080/"
        },
        "id": "jbH9kTomzGfS",
        "outputId": "ef476aa7-9043-40f4-b3b3-e69eb0793750"
      },
      "outputs": [
        {
          "name": "stdout",
          "output_type": "stream",
          "text": [
            "Downloading data from https://www.cs.toronto.edu/~kriz/cifar-10-python.tar.gz\n",
            "\u001b[1m170498071/170498071\u001b[0m \u001b[32m━━━━━━━━━━━━━━━━━━━━\u001b[0m\u001b[37m\u001b[0m \u001b[1m3s\u001b[0m 0us/step\n"
          ]
        }
      ],
      "source": [
        "(x_train,y_train),(x_test,y_test)= cifar10.load_data()"
      ]
    },
    {
      "cell_type": "code",
      "execution_count": null,
      "metadata": {
        "id": "HrXk84Ohzsak"
      },
      "outputs": [],
      "source": [
        "y_train= to_categorical(y_train)\n",
        "y_test= to_categorical(y_test)"
      ]
    },
    {
      "cell_type": "code",
      "execution_count": null,
      "metadata": {
        "colab": {
          "base_uri": "https://localhost:8080/"
        },
        "collapsed": true,
        "id": "Fme4yKRB0BU2",
        "outputId": "550aaeb0-0982-4aac-8fff-805fa048fc3d"
      },
      "outputs": [
        {
          "data": {
            "text/plain": [
              "(50000, 32, 32, 3)"
            ]
          },
          "execution_count": 7,
          "metadata": {},
          "output_type": "execute_result"
        }
      ],
      "source": [
        "x_train.shape"
      ]
    },
    {
      "cell_type": "code",
      "execution_count": null,
      "metadata": {
        "colab": {
          "base_uri": "https://localhost:8080/"
        },
        "id": "GhTnRQ1x0dzf",
        "outputId": "af0e4700-97d5-4fde-d797-64421f74fa26"
      },
      "outputs": [
        {
          "data": {
            "text/plain": [
              "array([0., 1.])"
            ]
          },
          "execution_count": 8,
          "metadata": {},
          "output_type": "execute_result"
        }
      ],
      "source": [
        "unique_values = np.unique(y_train)\n",
        "unique_values"
      ]
    },
    {
      "cell_type": "code",
      "execution_count": null,
      "metadata": {
        "colab": {
          "base_uri": "https://localhost:8080/"
        },
        "id": "9GCbf7tN0oRk",
        "outputId": "e0071524-e16b-4174-bb0a-668256fef553"
      },
      "outputs": [
        {
          "data": {
            "text/plain": [
              "array([[0., 0., 0., ..., 0., 0., 0.],\n",
              "       [0., 0., 0., ..., 0., 0., 1.],\n",
              "       [0., 0., 0., ..., 0., 0., 1.],\n",
              "       ...,\n",
              "       [0., 0., 0., ..., 0., 0., 1.],\n",
              "       [0., 1., 0., ..., 0., 0., 0.],\n",
              "       [0., 1., 0., ..., 0., 0., 0.]])"
            ]
          },
          "execution_count": 10,
          "metadata": {},
          "output_type": "execute_result"
        }
      ],
      "source": [
        "y_train"
      ]
    },
    {
      "cell_type": "code",
      "execution_count": null,
      "metadata": {
        "id": "FIbydcE_01Kd"
      },
      "outputs": [],
      "source": [
        "x_train= x_train/255.0\n",
        "x_test= x_test/255.0"
      ]
    },
    {
      "cell_type": "code",
      "execution_count": 12,
      "metadata": {
        "colab": {
          "base_uri": "https://localhost:8080/"
        },
        "id": "0QhjZ1Mt4uzs",
        "outputId": "10c198f9-b3fe-4840-fa58-987176cd1a2e"
      },
      "outputs": [
        {
          "output_type": "stream",
          "name": "stdout",
          "text": [
            "Epoch 1/50\n",
            "782/782 - 179s - 228ms/step - accuracy: 0.4218 - loss: 1.6357 - val_accuracy: 0.5093 - val_loss: 1.4055\n",
            "Epoch 2/50\n",
            "782/782 - 178s - 228ms/step - accuracy: 0.5455 - loss: 1.2988 - val_accuracy: 0.5768 - val_loss: 1.2060\n",
            "Epoch 3/50\n",
            "782/782 - 199s - 254ms/step - accuracy: 0.6071 - loss: 1.1322 - val_accuracy: 0.6050 - val_loss: 1.1255\n",
            "Epoch 4/50\n",
            "782/782 - 175s - 224ms/step - accuracy: 0.6458 - loss: 1.0232 - val_accuracy: 0.6310 - val_loss: 1.0555\n",
            "Epoch 5/50\n",
            "782/782 - 201s - 257ms/step - accuracy: 0.6721 - loss: 0.9524 - val_accuracy: 0.6513 - val_loss: 1.0082\n",
            "Epoch 6/50\n",
            "782/782 - 202s - 258ms/step - accuracy: 0.6907 - loss: 0.9023 - val_accuracy: 0.6547 - val_loss: 0.9922\n",
            "Epoch 7/50\n",
            "782/782 - 203s - 260ms/step - accuracy: 0.7104 - loss: 0.8496 - val_accuracy: 0.6602 - val_loss: 0.9853\n",
            "Epoch 8/50\n",
            "782/782 - 202s - 258ms/step - accuracy: 0.7249 - loss: 0.8091 - val_accuracy: 0.6732 - val_loss: 0.9540\n",
            "Epoch 9/50\n",
            "782/782 - 173s - 221ms/step - accuracy: 0.7338 - loss: 0.7826 - val_accuracy: 0.6694 - val_loss: 0.9571\n",
            "Epoch 10/50\n",
            "782/782 - 203s - 259ms/step - accuracy: 0.7474 - loss: 0.7412 - val_accuracy: 0.6750 - val_loss: 0.9484\n",
            "Epoch 11/50\n",
            "782/782 - 202s - 258ms/step - accuracy: 0.7599 - loss: 0.7099 - val_accuracy: 0.6683 - val_loss: 0.9802\n",
            "Epoch 12/50\n",
            "782/782 - 201s - 257ms/step - accuracy: 0.7674 - loss: 0.6851 - val_accuracy: 0.6715 - val_loss: 0.9601\n",
            "Epoch 13/50\n",
            "782/782 - 202s - 258ms/step - accuracy: 0.7778 - loss: 0.6547 - val_accuracy: 0.6716 - val_loss: 0.9647\n",
            "Epoch 14/50\n",
            "782/782 - 203s - 260ms/step - accuracy: 0.7874 - loss: 0.6275 - val_accuracy: 0.6687 - val_loss: 0.9721\n",
            "Epoch 15/50\n",
            "782/782 - 202s - 258ms/step - accuracy: 0.7984 - loss: 0.5968 - val_accuracy: 0.6771 - val_loss: 0.9767\n",
            "Epoch 16/50\n",
            "782/782 - 202s - 258ms/step - accuracy: 0.8067 - loss: 0.5690 - val_accuracy: 0.6778 - val_loss: 0.9757\n",
            "Epoch 17/50\n",
            "782/782 - 202s - 258ms/step - accuracy: 0.8183 - loss: 0.5382 - val_accuracy: 0.6789 - val_loss: 0.9858\n",
            "Epoch 18/50\n",
            "782/782 - 202s - 258ms/step - accuracy: 0.8275 - loss: 0.5159 - val_accuracy: 0.6784 - val_loss: 0.9884\n",
            "Epoch 19/50\n",
            "782/782 - 173s - 222ms/step - accuracy: 0.8348 - loss: 0.4923 - val_accuracy: 0.6681 - val_loss: 1.0442\n",
            "Epoch 20/50\n",
            "782/782 - 200s - 256ms/step - accuracy: 0.8461 - loss: 0.4642 - val_accuracy: 0.6653 - val_loss: 1.0465\n",
            "Epoch 21/50\n",
            "782/782 - 171s - 219ms/step - accuracy: 0.8558 - loss: 0.4388 - val_accuracy: 0.6700 - val_loss: 1.0467\n",
            "Epoch 22/50\n",
            "782/782 - 173s - 221ms/step - accuracy: 0.8612 - loss: 0.4201 - val_accuracy: 0.6694 - val_loss: 1.0644\n",
            "Epoch 23/50\n",
            "782/782 - 202s - 258ms/step - accuracy: 0.8719 - loss: 0.3951 - val_accuracy: 0.6639 - val_loss: 1.0982\n",
            "Epoch 24/50\n",
            "782/782 - 201s - 257ms/step - accuracy: 0.8781 - loss: 0.3746 - val_accuracy: 0.6655 - val_loss: 1.1166\n",
            "Epoch 25/50\n",
            "782/782 - 202s - 259ms/step - accuracy: 0.8860 - loss: 0.3547 - val_accuracy: 0.6646 - val_loss: 1.1453\n",
            "Epoch 26/50\n",
            "782/782 - 204s - 261ms/step - accuracy: 0.8935 - loss: 0.3290 - val_accuracy: 0.6625 - val_loss: 1.1740\n",
            "Epoch 27/50\n",
            "782/782 - 201s - 257ms/step - accuracy: 0.9016 - loss: 0.3076 - val_accuracy: 0.6629 - val_loss: 1.1997\n",
            "Epoch 28/50\n",
            "782/782 - 171s - 219ms/step - accuracy: 0.9080 - loss: 0.2902 - val_accuracy: 0.6501 - val_loss: 1.2568\n",
            "Epoch 29/50\n",
            "782/782 - 203s - 259ms/step - accuracy: 0.9169 - loss: 0.2688 - val_accuracy: 0.6493 - val_loss: 1.2695\n",
            "Epoch 30/50\n",
            "782/782 - 203s - 260ms/step - accuracy: 0.9220 - loss: 0.2526 - val_accuracy: 0.6533 - val_loss: 1.2956\n",
            "Epoch 31/50\n",
            "782/782 - 202s - 258ms/step - accuracy: 0.9272 - loss: 0.2389 - val_accuracy: 0.6555 - val_loss: 1.3329\n",
            "Epoch 32/50\n",
            "782/782 - 200s - 256ms/step - accuracy: 0.9339 - loss: 0.2189 - val_accuracy: 0.6551 - val_loss: 1.3426\n",
            "Epoch 33/50\n",
            "782/782 - 172s - 220ms/step - accuracy: 0.9386 - loss: 0.2047 - val_accuracy: 0.6533 - val_loss: 1.4202\n",
            "Epoch 34/50\n",
            "782/782 - 203s - 259ms/step - accuracy: 0.9430 - loss: 0.1940 - val_accuracy: 0.6481 - val_loss: 1.4476\n",
            "Epoch 35/50\n",
            "782/782 - 201s - 257ms/step - accuracy: 0.9460 - loss: 0.1821 - val_accuracy: 0.6503 - val_loss: 1.4601\n",
            "Epoch 36/50\n",
            "782/782 - 203s - 260ms/step - accuracy: 0.9508 - loss: 0.1698 - val_accuracy: 0.6522 - val_loss: 1.4997\n",
            "Epoch 37/50\n",
            "782/782 - 203s - 259ms/step - accuracy: 0.9588 - loss: 0.1493 - val_accuracy: 0.6460 - val_loss: 1.5570\n",
            "Epoch 38/50\n",
            "782/782 - 201s - 258ms/step - accuracy: 0.9660 - loss: 0.1321 - val_accuracy: 0.6499 - val_loss: 1.5675\n",
            "Epoch 39/50\n",
            "782/782 - 202s - 258ms/step - accuracy: 0.9692 - loss: 0.1226 - val_accuracy: 0.6506 - val_loss: 1.6249\n",
            "Epoch 40/50\n",
            "782/782 - 204s - 260ms/step - accuracy: 0.9713 - loss: 0.1150 - val_accuracy: 0.6495 - val_loss: 1.6550\n",
            "Epoch 41/50\n",
            "782/782 - 201s - 256ms/step - accuracy: 0.9760 - loss: 0.1032 - val_accuracy: 0.6446 - val_loss: 1.7067\n",
            "Epoch 42/50\n",
            "782/782 - 173s - 221ms/step - accuracy: 0.9789 - loss: 0.0938 - val_accuracy: 0.6480 - val_loss: 1.7298\n",
            "Epoch 43/50\n",
            "782/782 - 204s - 261ms/step - accuracy: 0.9814 - loss: 0.0858 - val_accuracy: 0.6412 - val_loss: 1.8042\n",
            "Epoch 44/50\n",
            "782/782 - 202s - 258ms/step - accuracy: 0.9835 - loss: 0.0815 - val_accuracy: 0.6466 - val_loss: 1.8034\n",
            "Epoch 45/50\n",
            "782/782 - 172s - 220ms/step - accuracy: 0.9872 - loss: 0.0687 - val_accuracy: 0.6472 - val_loss: 1.8299\n",
            "Epoch 46/50\n",
            "782/782 - 203s - 260ms/step - accuracy: 0.9900 - loss: 0.0629 - val_accuracy: 0.6466 - val_loss: 1.8804\n",
            "Epoch 47/50\n",
            "782/782 - 199s - 254ms/step - accuracy: 0.9897 - loss: 0.0606 - val_accuracy: 0.6459 - val_loss: 1.9339\n",
            "Epoch 48/50\n",
            "782/782 - 205s - 262ms/step - accuracy: 0.9921 - loss: 0.0534 - val_accuracy: 0.6401 - val_loss: 1.9991\n",
            "Epoch 49/50\n",
            "782/782 - 203s - 259ms/step - accuracy: 0.9936 - loss: 0.0478 - val_accuracy: 0.6460 - val_loss: 1.9832\n",
            "Epoch 50/50\n",
            "782/782 - 200s - 256ms/step - accuracy: 0.9964 - loss: 0.0388 - val_accuracy: 0.6434 - val_loss: 2.0110\n",
            "Accuracy: 64.34\n"
          ]
        }
      ],
      "source": [
        "\n",
        "# cnn model\n",
        "\n",
        "model= Sequential()\n",
        "model.add(Conv2D(32, (3,3), activation='relu', kernel_initializer='he_uniform',\n",
        "                 padding='same', input_shape=(32,32,3)))\n",
        "model.add(Conv2D(64, (3,3), activation='relu', kernel_initializer='he_uniform',\n",
        "                 padding='same'))\n",
        "model.add(MaxPooling2D((2,2)))\n",
        "model.add(Flatten())\n",
        "model.add(Dense(10, activation='softmax'))\n",
        "\n",
        "# train the model\n",
        "\n",
        "# The argument for learning rate is 'learning_rate' instead of 'lr'\n",
        "opt= SGD(learning_rate=0.001, momentum=0.95)\n",
        "model.compile(optimizer=opt, loss='categorical_crossentropy', metrics=['accuracy'])\n",
        "\n",
        "model.fit(x_train, y_train,\n",
        "          validation_data=(x_test,y_test) ,epochs=50, batch_size=64, verbose=2)\n",
        "\n",
        "#evaluate model\n",
        "_, accuracy = model.evaluate(x_test,y_test,verbose=0) # Assign the output to _, accuracy\n",
        "print(\"Accuracy: %.2f\" % (accuracy*100))"
      ]
    }
  ],
  "metadata": {
    "colab": {
      "provenance": [],
      "authorship_tag": "ABX9TyMDLuYNr9ztuVh5jsdkFVXm",
      "include_colab_link": true
    },
    "kernelspec": {
      "display_name": "Python 3",
      "name": "python3"
    },
    "language_info": {
      "name": "python"
    }
  },
  "nbformat": 4,
  "nbformat_minor": 0
}